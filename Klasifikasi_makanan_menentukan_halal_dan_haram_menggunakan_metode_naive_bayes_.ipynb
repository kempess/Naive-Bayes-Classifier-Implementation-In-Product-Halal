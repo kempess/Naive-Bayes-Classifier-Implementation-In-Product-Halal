{
  "nbformat": 4,
  "nbformat_minor": 0,
  "metadata": {
    "colab": {
      "private_outputs": true,
      "provenance": []
    },
    "kernelspec": {
      "name": "python3",
      "display_name": "Python 3"
    },
    "language_info": {
      "name": "python"
    }
  },
  "cells": [
    {
      "cell_type": "markdown",
      "source": [
        "Import terlebih dahulu library yang akan kita gunakan"
      ],
      "metadata": {
        "id": "UgeYep0wuvWM"
      }
    },
    {
      "cell_type": "code",
      "execution_count": null,
      "metadata": {
        "id": "Mz1m1oawsvZB"
      },
      "outputs": [],
      "source": [
        "import pandas as pd\n",
        "from sklearn.feature_extraction.text import CountVectorizer\n",
        "from sklearn.model_selection import train_test_split\n",
        "from sklearn.naive_bayes import MultinomialNB\n",
        "import pickle\n",
        "from google.colab import data_table\n",
        "data_table.disable_dataframe_formatter()"
      ]
    },
    {
      "cell_type": "markdown",
      "source": [
        "Setelah kode di atas dieksekusi, kita dapat menggunakan fungsi dan kelas yang diimpor untuk melakukan analisis teks menggunakan metode klasifikasi Naive Bayes."
      ],
      "metadata": {
        "id": "KjLSbdzEuqDr"
      }
    },
    {
      "cell_type": "code",
      "source": [
        "# Membaca dataset\n",
        "data = pd.read_csv('https://gitlab.com/kempess/dataset-article/-/raw/main/dataset_produk.csv')"
      ],
      "metadata": {
        "id": "eXa0-RfLsxxI"
      },
      "execution_count": null,
      "outputs": []
    },
    {
      "cell_type": "markdown",
      "source": [
        "Dengan menggunakan baris kode tersebut, dataset makanan dari file CSV akan dibaca dan disimpan dalam variabel data. kita dapat menggunakan variabel ini untuk melakukan analisis data lebih lanjut menggunakan pustaka pandas."
      ],
      "metadata": {
        "id": "J3d3hM0cu7NJ"
      }
    },
    {
      "cell_type": "code",
      "source": [
        "data.head(len(data))"
      ],
      "metadata": {
        "id": "CswuRHS3s2Ls"
      },
      "execution_count": null,
      "outputs": []
    },
    {
      "cell_type": "markdown",
      "source": [
        "kode tersebut bertujuan untuk melihat beberapa baris pertama dari dataset makanan yang telah dibaca dari file CSV"
      ],
      "metadata": {
        "id": "p5Oq-s50vV3d"
      }
    },
    {
      "cell_type": "code",
      "source": [
        "# Provides some information regarding the columns in the data\n",
        "data.info()"
      ],
      "metadata": {
        "id": "zqC752Nos62I"
      },
      "execution_count": null,
      "outputs": []
    },
    {
      "cell_type": "code",
      "source": [
        "# Melakukan tokenisasi pada kolom yang menunjukkan \"kategori halal\"\n",
        "vectorizer = CountVectorizer()\n",
        "X_text = data['Nama Produk']\n",
        "X_name = data['Keterangan Halal']\n",
        "X = vectorizer.fit_transform(X_text + ' ' + X_name)\n",
        "\n",
        "# Memisahkan fitur (X) dan target (y)\n",
        "y = data['Status']\n",
        "\n",
        "# Memecah kumpulan data menjadi data latihan dan data uji\n",
        "X_train, X_test, y_train, y_test = train_test_split(X, y, test_size=0.2, random_state=42)\n",
        "\n",
        "# Membuat objek Naive Bayes\n",
        "model = MultinomialNB()\n",
        "\n",
        "# Melatih model menggunakan data latih\n",
        "model.fit(X_train, y_train)\n",
        "\n",
        "# Menyimpan model ke dalam file pickle\n",
        "filename = 'naive_bayes_model.pkl'\n",
        "with open(filename, 'wb') as file:\n",
        "    pickle.dump(model, file)"
      ],
      "metadata": {
        "id": "HrRbxxDhs0U-"
      },
      "execution_count": null,
      "outputs": []
    },
    {
      "cell_type": "code",
      "source": [
        "from sklearn.metrics import accuracy_score\n",
        "import pickle\n",
        "\n",
        "# Membuka file model\n",
        "with open('naive_bayes_model.pkl', 'rb') as file:\n",
        "    model = pickle.load(file)\n",
        "\n",
        "# Lakukan prediksi menggunakan model\n",
        "predicted = model.predict(X_test)  # X_test adalah data uji yang digunakan\n",
        "\n",
        "# Hitung dan cetak akurasi\n",
        "accuracy = accuracy_score(y_test, predicted)  # y_test adalah label yang sesuai dengan X_test\n",
        "print(\"MultinomialNB Accuracy:\", accuracy)\n"
      ],
      "metadata": {
        "id": "oJ6geQPlTYgu"
      },
      "execution_count": null,
      "outputs": []
    },
    {
      "cell_type": "markdown",
      "source": [
        "Dengan menggunakan baris-baris kode di atas, dilakukan pelatihan model klasifikasi Naive Bayes menggunakan dataset makanan yang telah diolah menjadi matriks fitur. Model tersebut kemudian disimpan dalam file pickle untuk digunakan di masa mendatang tanpa perlu melatih ulang model."
      ],
      "metadata": {
        "id": "RpPN1rAlvn6S"
      }
    },
    {
      "cell_type": "code",
      "source": [
        "# Membaca model dari file pickle\n",
        "with open(filename, 'rb') as file:\n",
        "    loaded_model = pickle.load(file)\n",
        "\n",
        "# Menerima input dari pengguna\n",
        "new_data = input(\"Masukkan makanan atau minuman (pisahkan dengan koma jika lebih dari satu): \")\n",
        "new_data = new_data.split(',')\n",
        "\n",
        "# Mengubah data input menjadi bentuk yang dapat diproses oleh model\n",
        "new_data_transformed = vectorizer.transform(new_data)\n",
        "\n",
        "# Melakukan prediksi menggunakan model yang telah disimpan\n",
        "predictions = loaded_model.predict(new_data_transformed)\n",
        "\n",
        "# Menampilkan hasil prediksi\n",
        "for data, prediction in zip(new_data, predictions):\n",
        "    print(f'Makanan: {data.strip()}, Prediksi: {prediction}')\n"
      ],
      "metadata": {
        "id": "l9RMU87HtSkW"
      },
      "execution_count": null,
      "outputs": []
    },
    {
      "cell_type": "markdown",
      "source": [
        "Dengan menggunakan baris-baris kode di atas, model klasifikasi Naive Bayes yang telah disimpan sebelumnya diambil dari file pickle. Kemudian, pengguna diminta untuk memasukkan data makanan yang akan diprediksi. Setelah itu, model melakukan prediksi terhadap data input tersebut, dan hasil prediksi ditampilkan kepada pengguna."
      ],
      "metadata": {
        "id": "WxdA00Kfv1zi"
      }
    },
    {
      "cell_type": "code",
      "source": [
        "import pandas as pd\n",
        "import matplotlib.pyplot as plt\n",
        "# Membaca dataset\n",
        "data = pd.read_csv('https://gitlab.com/kempess/dataset-article/-/raw/main/dataset_produk.csv')\n",
        "# Grafik Bar untuk Jumlah Data pada Setiap Status\n",
        "status_counts = data['Status'].value_counts()\n",
        "plt.figure(figsize=(8, 6))\n",
        "plt.bar(status_counts.index, status_counts.values)\n",
        "plt.xlabel('Status')\n",
        "plt.ylabel('Jumlah Data')\n",
        "plt.title('Jumlah Data pada Setiap Status')\n",
        "plt.show()\n",
        "\n",
        "\n"
      ],
      "metadata": {
        "id": "0s7B28oa3r7y"
      },
      "execution_count": null,
      "outputs": []
    },
    {
      "cell_type": "code",
      "source": [
        "# Grafik Pie untuk Proporsi Status\n",
        "plt.figure(figsize=(6, 6))\n",
        "plt.pie(status_counts.values, labels=status_counts.index, autopct='%1.1f%%')\n",
        "plt.title('Proporsi Status')\n",
        "plt.show()\n",
        "\n"
      ],
      "metadata": {
        "id": "W4pcICGS37tb"
      },
      "execution_count": null,
      "outputs": []
    },
    {
      "cell_type": "code",
      "source": [
        "# Grafik Bar untuk Jumlah Data pada Setiap keterangan Halal\n",
        "keterangan_counts = data['Keterangan Halal'].value_counts().head(10)\n",
        "plt.figure(figsize=(10, 6))\n",
        "plt.bar(keterangan_counts.index, keterangan_counts.values)\n",
        "plt.xlabel('Keterangan Halal')\n",
        "plt.ylabel('Jumlah Data')\n",
        "plt.title('Jumlah Data pada Setiap Keterangan Halal (Top 10)')\n",
        "plt.xticks(rotation=45)\n",
        "plt.show()"
      ],
      "metadata": {
        "id": "GchqSvYO3-KJ"
      },
      "execution_count": null,
      "outputs": []
    },
    {
      "cell_type": "markdown",
      "source": [
        "## Kesimpulan"
      ],
      "metadata": {
        "id": "eka_DITcv3fM"
      }
    },
    {
      "cell_type": "markdown",
      "source": [
        "Dalam kode yang diberikan, dilakukan klasifikasi makanan untuk menentukan status halal dan haram menggunakan metode Naive Bayes. Langkah-langkah yang dijalankan mencakup membaca dataset, tokenisasi teks menggunakan CountVectorizer, membagi dataset menjadi data latih dan data uji, membuat objek model Naive Bayes, melatih model menggunakan data latih, dan menyimpan model yang telah dilatih ke dalam file pickle.Setelah model dilatih, pengguna dapat memasukkan data makanan sebagai input. Data input tersebut kemudian diubah menjadi bentuk yang dapat diproses oleh model, dan prediksi status halal dan haram dilakukan menggunakan model yang telah disimpan sebelumnya. Hasil prediksi ditampilkan kepada pengguna. Dengan menggunakan metode Naive Bayes, kode ini memberikan cara untuk melakukan klasifikasi makanan dengan mengidentifikasi status halal dan haram berdasarkan teks yang terkait dengan kriteria halal."
      ],
      "metadata": {
        "id": "Kf7ZT8wUv6fL"
      }
    }
  ]
}